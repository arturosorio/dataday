{
 "cells": [
  {
   "cell_type": "markdown",
   "source": [
    "### Problema\r\n",
    "\r\n",
    "Vamos a identificar el autor (Edgar Allan Poe, Mary Shelley, and HP Lovecraft) de un texto a partir de carateristicas derivadas del texto. "
   ],
   "metadata": {}
  },
  {
   "cell_type": "code",
   "execution_count": 2,
   "source": [
    "import numpy as np \r\n",
    "import pandas as pd \r\n",
    "import re\r\n",
    "from nltk.corpus import stopwords\r\n",
    "from nltk import download\r\n",
    "from typing import List\r\n",
    "from sklearn.model_selection import train_test_split\r\n",
    "\r\n",
    "df = pd.read_csv('data/train.csv')\r\n",
    "\r\n",
    "df.dropna(axis=0)\r\n",
    "df.set_index('id', inplace = True)\r\n",
    "\r\n",
    "df.head()"
   ],
   "outputs": [
    {
     "output_type": "execute_result",
     "data": {
      "text/html": [
       "<div>\n",
       "<style scoped>\n",
       "    .dataframe tbody tr th:only-of-type {\n",
       "        vertical-align: middle;\n",
       "    }\n",
       "\n",
       "    .dataframe tbody tr th {\n",
       "        vertical-align: top;\n",
       "    }\n",
       "\n",
       "    .dataframe thead th {\n",
       "        text-align: right;\n",
       "    }\n",
       "</style>\n",
       "<table border=\"1\" class=\"dataframe\">\n",
       "  <thead>\n",
       "    <tr style=\"text-align: right;\">\n",
       "      <th></th>\n",
       "      <th>text</th>\n",
       "      <th>author</th>\n",
       "    </tr>\n",
       "    <tr>\n",
       "      <th>id</th>\n",
       "      <th></th>\n",
       "      <th></th>\n",
       "    </tr>\n",
       "  </thead>\n",
       "  <tbody>\n",
       "    <tr>\n",
       "      <th>id26305</th>\n",
       "      <td>This process, however, afforded me no means of...</td>\n",
       "      <td>EAP</td>\n",
       "    </tr>\n",
       "    <tr>\n",
       "      <th>id17569</th>\n",
       "      <td>It never once occurred to me that the fumbling...</td>\n",
       "      <td>HPL</td>\n",
       "    </tr>\n",
       "    <tr>\n",
       "      <th>id11008</th>\n",
       "      <td>In his left hand was a gold snuff box, from wh...</td>\n",
       "      <td>EAP</td>\n",
       "    </tr>\n",
       "    <tr>\n",
       "      <th>id27763</th>\n",
       "      <td>How lovely is spring As we looked from Windsor...</td>\n",
       "      <td>MWS</td>\n",
       "    </tr>\n",
       "    <tr>\n",
       "      <th>id12958</th>\n",
       "      <td>Finding nothing else, not even gold, the Super...</td>\n",
       "      <td>HPL</td>\n",
       "    </tr>\n",
       "  </tbody>\n",
       "</table>\n",
       "</div>"
      ],
      "text/plain": [
       "                                                      text author\n",
       "id                                                               \n",
       "id26305  This process, however, afforded me no means of...    EAP\n",
       "id17569  It never once occurred to me that the fumbling...    HPL\n",
       "id11008  In his left hand was a gold snuff box, from wh...    EAP\n",
       "id27763  How lovely is spring As we looked from Windsor...    MWS\n",
       "id12958  Finding nothing else, not even gold, the Super...    HPL"
      ]
     },
     "metadata": {},
     "execution_count": 2
    }
   ],
   "metadata": {}
  },
  {
   "cell_type": "code",
   "execution_count": 3,
   "source": [
    "download('stopwords')"
   ],
   "outputs": [
    {
     "output_type": "stream",
     "name": "stderr",
     "text": [
      "[nltk_data] Downloading package stopwords to\n",
      "[nltk_data]     C:\\Users\\jose.osorio\\AppData\\Roaming\\nltk_data...\n",
      "[nltk_data]   Package stopwords is already up-to-date!\n"
     ]
    },
    {
     "output_type": "execute_result",
     "data": {
      "text/plain": [
       "True"
      ]
     },
     "metadata": {},
     "execution_count": 3
    }
   ],
   "metadata": {}
  },
  {
   "cell_type": "code",
   "execution_count": 4,
   "source": [
    "### yet, upon, must, thing, man"
   ],
   "outputs": [],
   "metadata": {}
  },
  {
   "cell_type": "code",
   "execution_count": 5,
   "source": [
    "stopWords = stopwords.words('english')\r\n",
    "new_stop_words = [\"yet\", \"upon\", \"must\", \"thing\", \"man\"]\r\n",
    "stopWords = stopWords + new_stop_words\r\n"
   ],
   "outputs": [],
   "metadata": {}
  },
  {
   "cell_type": "code",
   "execution_count": 6,
   "source": [
    "\r\n",
    "\r\n",
    "def make_stopwords(custom_stopwords:List[str]) -> set:\r\n",
    "    stopWords = stopwords.words('english')\r\n",
    "    stopWords = set(stopWords + custom_stopwords)\r\n",
    "    return stopWords\r\n",
    "def procesamiento_base(df:pd.DataFrame, custom_stopwords:List[str]) -> pd.DataFrame:\r\n",
    "    stopWords = make_stopwords(custom_stopwords)\r\n",
    "    df['texto_procesado'] = df['text'].apply(lambda x: re.sub(r'[^\\w\\s]','', x.lower()))\r\n",
    "    df['len_texto'] = df['texto_procesado'].apply(lambda x: len(x))\r\n",
    "    df['palabras'] = df['texto_procesado'].apply(lambda x: len(x.split(' ')))\r\n",
    "    df['palabras_sin_stopwords'] = df['texto_procesado'].apply(lambda x: len([t for t in x.split(' ') if t not in stopWords]))\r\n",
    "    df['len_avg_palabra'] = df['texto_procesado'].apply(lambda x: np.mean([len(t) for t in x.split(' ') if t not in stopWords]) if len([len(t) for t in x.split(' ') if t not in stopWords]) > 0 else 0)\r\n",
    "    df['num_comas'] = df['text'].apply(lambda x: x.count(','))\r\n",
    "\r\n",
    "    return(df)\r\n",
    "custom_stopwords = [\"yet\", \"upon\", \"must\", \"thing\", \"man\"]\r\n",
    "df = procesamiento_base(df, custom_stopwords)\r\n",
    "\r\n",
    "df.head()"
   ],
   "outputs": [
    {
     "output_type": "execute_result",
     "data": {
      "text/html": [
       "<div>\n",
       "<style scoped>\n",
       "    .dataframe tbody tr th:only-of-type {\n",
       "        vertical-align: middle;\n",
       "    }\n",
       "\n",
       "    .dataframe tbody tr th {\n",
       "        vertical-align: top;\n",
       "    }\n",
       "\n",
       "    .dataframe thead th {\n",
       "        text-align: right;\n",
       "    }\n",
       "</style>\n",
       "<table border=\"1\" class=\"dataframe\">\n",
       "  <thead>\n",
       "    <tr style=\"text-align: right;\">\n",
       "      <th></th>\n",
       "      <th>text</th>\n",
       "      <th>author</th>\n",
       "      <th>texto_procesado</th>\n",
       "      <th>len_texto</th>\n",
       "      <th>palabras</th>\n",
       "      <th>palabras_sin_stopwords</th>\n",
       "      <th>len_avg_palabra</th>\n",
       "      <th>num_comas</th>\n",
       "    </tr>\n",
       "    <tr>\n",
       "      <th>id</th>\n",
       "      <th></th>\n",
       "      <th></th>\n",
       "      <th></th>\n",
       "      <th></th>\n",
       "      <th></th>\n",
       "      <th></th>\n",
       "      <th></th>\n",
       "      <th></th>\n",
       "    </tr>\n",
       "  </thead>\n",
       "  <tbody>\n",
       "    <tr>\n",
       "      <th>id26305</th>\n",
       "      <td>This process, however, afforded me no means of...</td>\n",
       "      <td>EAP</td>\n",
       "      <td>this process however afforded me no means of a...</td>\n",
       "      <td>224</td>\n",
       "      <td>41</td>\n",
       "      <td>21</td>\n",
       "      <td>6.380952</td>\n",
       "      <td>4</td>\n",
       "    </tr>\n",
       "    <tr>\n",
       "      <th>id17569</th>\n",
       "      <td>It never once occurred to me that the fumbling...</td>\n",
       "      <td>HPL</td>\n",
       "      <td>it never once occurred to me that the fumbling...</td>\n",
       "      <td>70</td>\n",
       "      <td>14</td>\n",
       "      <td>6</td>\n",
       "      <td>6.166667</td>\n",
       "      <td>0</td>\n",
       "    </tr>\n",
       "    <tr>\n",
       "      <th>id11008</th>\n",
       "      <td>In his left hand was a gold snuff box, from wh...</td>\n",
       "      <td>EAP</td>\n",
       "      <td>in his left hand was a gold snuff box from whi...</td>\n",
       "      <td>195</td>\n",
       "      <td>36</td>\n",
       "      <td>19</td>\n",
       "      <td>5.947368</td>\n",
       "      <td>4</td>\n",
       "    </tr>\n",
       "    <tr>\n",
       "      <th>id27763</th>\n",
       "      <td>How lovely is spring As we looked from Windsor...</td>\n",
       "      <td>MWS</td>\n",
       "      <td>how lovely is spring as we looked from windsor...</td>\n",
       "      <td>202</td>\n",
       "      <td>34</td>\n",
       "      <td>21</td>\n",
       "      <td>6.476190</td>\n",
       "      <td>3</td>\n",
       "    </tr>\n",
       "    <tr>\n",
       "      <th>id12958</th>\n",
       "      <td>Finding nothing else, not even gold, the Super...</td>\n",
       "      <td>HPL</td>\n",
       "      <td>finding nothing else not even gold the superin...</td>\n",
       "      <td>170</td>\n",
       "      <td>27</td>\n",
       "      <td>16</td>\n",
       "      <td>7.187500</td>\n",
       "      <td>2</td>\n",
       "    </tr>\n",
       "  </tbody>\n",
       "</table>\n",
       "</div>"
      ],
      "text/plain": [
       "                                                      text author  \\\n",
       "id                                                                  \n",
       "id26305  This process, however, afforded me no means of...    EAP   \n",
       "id17569  It never once occurred to me that the fumbling...    HPL   \n",
       "id11008  In his left hand was a gold snuff box, from wh...    EAP   \n",
       "id27763  How lovely is spring As we looked from Windsor...    MWS   \n",
       "id12958  Finding nothing else, not even gold, the Super...    HPL   \n",
       "\n",
       "                                           texto_procesado  len_texto  \\\n",
       "id                                                                      \n",
       "id26305  this process however afforded me no means of a...        224   \n",
       "id17569  it never once occurred to me that the fumbling...         70   \n",
       "id11008  in his left hand was a gold snuff box from whi...        195   \n",
       "id27763  how lovely is spring as we looked from windsor...        202   \n",
       "id12958  finding nothing else not even gold the superin...        170   \n",
       "\n",
       "         palabras  palabras_sin_stopwords  len_avg_palabra  num_comas  \n",
       "id                                                                     \n",
       "id26305        41                      21         6.380952          4  \n",
       "id17569        14                       6         6.166667          0  \n",
       "id11008        36                      19         5.947368          4  \n",
       "id27763        34                      21         6.476190          3  \n",
       "id12958        27                      16         7.187500          2  "
      ]
     },
     "metadata": {},
     "execution_count": 6
    }
   ],
   "metadata": {}
  },
  {
   "cell_type": "code",
   "execution_count": 7,
   "source": [
    "MODELING_COLS = [c for c in df.columns.values if c  not in ['id','author']]\r\n",
    "MODELING_FEATURES= [c for c in df.columns.values if c  not in ['id','text','author','texto_procesado']]\r\n",
    "target = 'author'\r\n"
   ],
   "outputs": [],
   "metadata": {}
  },
  {
   "cell_type": "code",
   "execution_count": 8,
   "source": [
    "MODELING_COLS"
   ],
   "outputs": [
    {
     "output_type": "execute_result",
     "data": {
      "text/plain": [
       "['text',\n",
       " 'texto_procesado',\n",
       " 'len_texto',\n",
       " 'palabras',\n",
       " 'palabras_sin_stopwords',\n",
       " 'len_avg_palabra',\n",
       " 'num_comas']"
      ]
     },
     "metadata": {},
     "execution_count": 8
    }
   ],
   "metadata": {}
  },
  {
   "cell_type": "code",
   "execution_count": 9,
   "source": [
    "X_train, X_test, y_train, y_test = train_test_split(df[MODELING_COLS], df[target], test_size=0.33, random_state=42)\r\n",
    "X_train.head()"
   ],
   "outputs": [
    {
     "output_type": "execute_result",
     "data": {
      "text/html": [
       "<div>\n",
       "<style scoped>\n",
       "    .dataframe tbody tr th:only-of-type {\n",
       "        vertical-align: middle;\n",
       "    }\n",
       "\n",
       "    .dataframe tbody tr th {\n",
       "        vertical-align: top;\n",
       "    }\n",
       "\n",
       "    .dataframe thead th {\n",
       "        text-align: right;\n",
       "    }\n",
       "</style>\n",
       "<table border=\"1\" class=\"dataframe\">\n",
       "  <thead>\n",
       "    <tr style=\"text-align: right;\">\n",
       "      <th></th>\n",
       "      <th>text</th>\n",
       "      <th>texto_procesado</th>\n",
       "      <th>len_texto</th>\n",
       "      <th>palabras</th>\n",
       "      <th>palabras_sin_stopwords</th>\n",
       "      <th>len_avg_palabra</th>\n",
       "      <th>num_comas</th>\n",
       "    </tr>\n",
       "    <tr>\n",
       "      <th>id</th>\n",
       "      <th></th>\n",
       "      <th></th>\n",
       "      <th></th>\n",
       "      <th></th>\n",
       "      <th></th>\n",
       "      <th></th>\n",
       "      <th></th>\n",
       "    </tr>\n",
       "  </thead>\n",
       "  <tbody>\n",
       "    <tr>\n",
       "      <th>id19417</th>\n",
       "      <td>This panorama is indeed glorious, and I should...</td>\n",
       "      <td>this panorama is indeed glorious and i should ...</td>\n",
       "      <td>91</td>\n",
       "      <td>18</td>\n",
       "      <td>6</td>\n",
       "      <td>6.666667</td>\n",
       "      <td>1</td>\n",
       "    </tr>\n",
       "    <tr>\n",
       "      <th>id09522</th>\n",
       "      <td>There was a simple, natural earnestness about ...</td>\n",
       "      <td>there was a simple natural earnestness about h...</td>\n",
       "      <td>240</td>\n",
       "      <td>44</td>\n",
       "      <td>18</td>\n",
       "      <td>6.277778</td>\n",
       "      <td>4</td>\n",
       "    </tr>\n",
       "    <tr>\n",
       "      <th>id22732</th>\n",
       "      <td>Who are you, pray, that I, Duc De L'Omelette, ...</td>\n",
       "      <td>who are you pray that i duc de lomelette princ...</td>\n",
       "      <td>387</td>\n",
       "      <td>74</td>\n",
       "      <td>38</td>\n",
       "      <td>5.552632</td>\n",
       "      <td>9</td>\n",
       "    </tr>\n",
       "    <tr>\n",
       "      <th>id10351</th>\n",
       "      <td>He had gone in the carriage to the nearest tow...</td>\n",
       "      <td>he had gone in the carriage to the nearest tow...</td>\n",
       "      <td>118</td>\n",
       "      <td>24</td>\n",
       "      <td>11</td>\n",
       "      <td>5.363636</td>\n",
       "      <td>0</td>\n",
       "    </tr>\n",
       "    <tr>\n",
       "      <th>id24580</th>\n",
       "      <td>There is no method in their proceedings, beyon...</td>\n",
       "      <td>there is no method in their proceedings beyond...</td>\n",
       "      <td>71</td>\n",
       "      <td>13</td>\n",
       "      <td>5</td>\n",
       "      <td>7.000000</td>\n",
       "      <td>1</td>\n",
       "    </tr>\n",
       "  </tbody>\n",
       "</table>\n",
       "</div>"
      ],
      "text/plain": [
       "                                                      text  \\\n",
       "id                                                           \n",
       "id19417  This panorama is indeed glorious, and I should...   \n",
       "id09522  There was a simple, natural earnestness about ...   \n",
       "id22732  Who are you, pray, that I, Duc De L'Omelette, ...   \n",
       "id10351  He had gone in the carriage to the nearest tow...   \n",
       "id24580  There is no method in their proceedings, beyon...   \n",
       "\n",
       "                                           texto_procesado  len_texto  \\\n",
       "id                                                                      \n",
       "id19417  this panorama is indeed glorious and i should ...         91   \n",
       "id09522  there was a simple natural earnestness about h...        240   \n",
       "id22732  who are you pray that i duc de lomelette princ...        387   \n",
       "id10351  he had gone in the carriage to the nearest tow...        118   \n",
       "id24580  there is no method in their proceedings beyond...         71   \n",
       "\n",
       "         palabras  palabras_sin_stopwords  len_avg_palabra  num_comas  \n",
       "id                                                                     \n",
       "id19417        18                       6         6.666667          1  \n",
       "id09522        44                      18         6.277778          4  \n",
       "id22732        74                      38         5.552632          9  \n",
       "id10351        24                      11         5.363636          0  \n",
       "id24580        13                       5         7.000000          1  "
      ]
     },
     "metadata": {},
     "execution_count": 9
    }
   ],
   "metadata": {}
  },
  {
   "cell_type": "code",
   "execution_count": 10,
   "source": [
    "from sklearn.base import BaseEstimator, TransformerMixin\r\n",
    "\r\n",
    "class ColumnSelector(BaseEstimator, TransformerMixin):\r\n",
    "    def __init__(self, columns: list):\r\n",
    "        if not isinstance(columns, list):\r\n",
    "            self.columns = [columns]\r\n",
    "        else:\r\n",
    "            self.columns = columns\r\n",
    "\r\n",
    "    def fit(self, X: pd.DataFrame, y: pd.Series = None):\r\n",
    "        return self\r\n",
    "\r\n",
    "    def transform(self, X: pd.DataFrame) -> pd.DataFrame:\r\n",
    "        X = X[self.columns]\r\n",
    "        return X\r\n",
    "\r\n",
    "\r\n",
    "class ClipTransformer(TransformerMixin, BaseEstimator):\r\n",
    "    \r\n",
    "    def __init__(self, q = None):\r\n",
    "      self.q_1 = None\r\n",
    "      self.q_2 = None\r\n",
    "      self.q = q\r\n",
    "\r\n",
    "    def fit(self, X, y=None):\r\n",
    "        if self.q is None: \r\n",
    "          self.q_1, self.q_2  = X.quantile(q = [0.1, 0.9])\r\n",
    "        else: \r\n",
    "          self.q_1, self.q_2  = X.quantile(q = self.q)\r\n",
    "        return self\r\n",
    "\r\n",
    "    def transform(self, X):\r\n",
    "        Xclip = np.array(np.clip(X, self.q_1, self.q_2)).reshape(-1, 1)\r\n",
    "        return Xclip\r\n",
    "\r\n",
    "class SingleSelector(BaseEstimator, TransformerMixin):\r\n",
    "    def __init__(self, key):\r\n",
    "        self.key = key\r\n",
    "\r\n",
    "    def fit(self, X, y=None):\r\n",
    "        return self\r\n",
    "\r\n",
    "    def transform(self, X):\r\n",
    "        return X[self.key]\r\n",
    "    "
   ],
   "outputs": [],
   "metadata": {}
  },
  {
   "cell_type": "code",
   "execution_count": 11,
   "source": [
    "from sklearn.pipeline import Pipeline, FeatureUnion\r\n",
    "from sklearn.feature_extraction.text import TfidfVectorizer\r\n",
    "from sklearn.preprocessing import StandardScaler\r\n",
    "from custom_pipeline_steps.custom_steps import SingleSelector, ClipTransformer, ColumnSelector\r\n",
    "\r\n",
    "text = Pipeline([\r\n",
    "                ('selector', SingleSelector(key='texto_procesado')),\r\n",
    "                ('tfidf', TfidfVectorizer( stop_words='english', ngram_range=(1,2)))\r\n",
    "            ])\r\n",
    "\r\n",
    "numerics = Pipeline([\r\n",
    "        ('selector', ColumnSelector(columns=['len_avg_palabra', 'num_comas'])),\r\n",
    "        ('scaler', StandardScaler())])\r\n",
    "\r\n",
    "num_len = Pipeline([\r\n",
    "        ('selector', SingleSelector(key=\"len_texto\")),\r\n",
    "        (\"clipper\", ClipTransformer(q=[0.05, 0.95])),\r\n",
    "        ('scaler', StandardScaler())\r\n",
    "])\r\n",
    "\r\n",
    "features = FeatureUnion([(\"text_tdfi\", text), (\"numeric\", numerics), (\"len_cli\", num_len)])\r\n",
    "\r\n",
    "features.fit_transform(X_train)"
   ],
   "outputs": [
    {
     "output_type": "execute_result",
     "data": {
      "text/plain": [
       "<13117x150268 sparse matrix of type '<class 'numpy.float64'>'\n",
       "\twith 325163 stored elements in Compressed Sparse Row format>"
      ]
     },
     "metadata": {},
     "execution_count": 11
    }
   ],
   "metadata": {}
  },
  {
   "cell_type": "code",
   "execution_count": 12,
   "source": [
    "from sklearn.ensemble import RandomForestClassifier\r\n",
    "\r\n",
    "pipeline = Pipeline([\r\n",
    "    ('features',features),\r\n",
    "    ('classifier', RandomForestClassifier(random_state = 42)),\r\n",
    "])\r\n",
    "\r\n",
    "pipeline.fit(X_train, y_train)\r\n",
    "\r\n",
    "preds = pipeline.predict(X_test)\r\n",
    "np.mean(preds == y_test)"
   ],
   "outputs": [
    {
     "output_type": "execute_result",
     "data": {
      "text/plain": [
       "0.6960693283813061"
      ]
     },
     "metadata": {},
     "execution_count": 12
    }
   ],
   "metadata": {}
  },
  {
   "cell_type": "code",
   "execution_count": 14,
   "source": [
    "from joblib import dump, load\r\n",
    "import joblib\r\n",
    "with open(\"model/pipeline.pkl\", \"wb\") as m:\r\n",
    "    joblib.dump(pipeline, m)"
   ],
   "outputs": [],
   "metadata": {}
  },
  {
   "cell_type": "code",
   "execution_count": 15,
   "source": [
    "with open(\"model/pipeline.pkl\", \"rb\") as m:\r\n",
    "    pipeline_pred = joblib.load(m)"
   ],
   "outputs": [],
   "metadata": {}
  },
  {
   "cell_type": "code",
   "execution_count": 16,
   "source": [
    "pipeline_pred.predict(X_test)"
   ],
   "outputs": [
    {
     "output_type": "execute_result",
     "data": {
      "text/plain": [
       "array(['EAP', 'EAP', 'EAP', ..., 'MWS', 'EAP', 'EAP'], dtype=object)"
      ]
     },
     "metadata": {},
     "execution_count": 16
    }
   ],
   "metadata": {}
  },
  {
   "cell_type": "code",
   "execution_count": null,
   "source": [],
   "outputs": [],
   "metadata": {}
  }
 ],
 "metadata": {
  "orig_nbformat": 4,
  "language_info": {
   "name": "python",
   "version": "3.8.11",
   "mimetype": "text/x-python",
   "codemirror_mode": {
    "name": "ipython",
    "version": 3
   },
   "pygments_lexer": "ipython3",
   "nbconvert_exporter": "python",
   "file_extension": ".py"
  },
  "kernelspec": {
   "name": "python3",
   "display_name": "Python 3.8.11 64-bit ('prod_test': conda)"
  },
  "interpreter": {
   "hash": "9f76859bdd67d149b1c8484ff398abc19395ca916b717cab918bc35b8c5b75fc"
  }
 },
 "nbformat": 4,
 "nbformat_minor": 2
}